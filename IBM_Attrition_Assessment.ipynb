{
 "cells": [
  {
   "cell_type": "code",
   "execution_count": 1,
   "metadata": {},
   "outputs": [],
   "source": [
    "import pandas as pd\n",
    "import numpy as np\n",
    "import matplotlib.pyplot as plt\n",
    "%matplotlib inline\n",
    "import seaborn as sns\n",
    "from patsy import dmatrices"
   ]
  },
  {
   "cell_type": "code",
   "execution_count": 2,
   "metadata": {},
   "outputs": [],
   "source": [
    "dataset=pd.read_csv(\"IBM Attrition Data.csv\")"
   ]
  },
  {
   "cell_type": "code",
   "execution_count": 3,
   "metadata": {},
   "outputs": [
    {
     "data": {
      "text/html": [
       "<div>\n",
       "<style scoped>\n",
       "    .dataframe tbody tr th:only-of-type {\n",
       "        vertical-align: middle;\n",
       "    }\n",
       "\n",
       "    .dataframe tbody tr th {\n",
       "        vertical-align: top;\n",
       "    }\n",
       "\n",
       "    .dataframe thead th {\n",
       "        text-align: right;\n",
       "    }\n",
       "</style>\n",
       "<table border=\"1\" class=\"dataframe\">\n",
       "  <thead>\n",
       "    <tr style=\"text-align: right;\">\n",
       "      <th></th>\n",
       "      <th>Age</th>\n",
       "      <th>Attrition</th>\n",
       "      <th>Department</th>\n",
       "      <th>DistanceFromHome</th>\n",
       "      <th>Education</th>\n",
       "      <th>EducationField</th>\n",
       "      <th>EnvironmentSatisfaction</th>\n",
       "      <th>JobSatisfaction</th>\n",
       "      <th>MaritalStatus</th>\n",
       "      <th>MonthlyIncome</th>\n",
       "      <th>NumCompaniesWorked</th>\n",
       "      <th>WorkLifeBalance</th>\n",
       "      <th>YearsAtCompany</th>\n",
       "    </tr>\n",
       "  </thead>\n",
       "  <tbody>\n",
       "    <tr>\n",
       "      <th>0</th>\n",
       "      <td>41</td>\n",
       "      <td>Yes</td>\n",
       "      <td>Sales</td>\n",
       "      <td>1</td>\n",
       "      <td>2</td>\n",
       "      <td>Life Sciences</td>\n",
       "      <td>2</td>\n",
       "      <td>4</td>\n",
       "      <td>Single</td>\n",
       "      <td>5993</td>\n",
       "      <td>8</td>\n",
       "      <td>1</td>\n",
       "      <td>6</td>\n",
       "    </tr>\n",
       "    <tr>\n",
       "      <th>1</th>\n",
       "      <td>49</td>\n",
       "      <td>No</td>\n",
       "      <td>Research &amp; Development</td>\n",
       "      <td>8</td>\n",
       "      <td>1</td>\n",
       "      <td>Life Sciences</td>\n",
       "      <td>3</td>\n",
       "      <td>2</td>\n",
       "      <td>Married</td>\n",
       "      <td>5130</td>\n",
       "      <td>1</td>\n",
       "      <td>3</td>\n",
       "      <td>10</td>\n",
       "    </tr>\n",
       "    <tr>\n",
       "      <th>2</th>\n",
       "      <td>37</td>\n",
       "      <td>Yes</td>\n",
       "      <td>Research &amp; Development</td>\n",
       "      <td>2</td>\n",
       "      <td>2</td>\n",
       "      <td>Other</td>\n",
       "      <td>4</td>\n",
       "      <td>3</td>\n",
       "      <td>Single</td>\n",
       "      <td>2090</td>\n",
       "      <td>6</td>\n",
       "      <td>3</td>\n",
       "      <td>0</td>\n",
       "    </tr>\n",
       "    <tr>\n",
       "      <th>3</th>\n",
       "      <td>33</td>\n",
       "      <td>No</td>\n",
       "      <td>Research &amp; Development</td>\n",
       "      <td>3</td>\n",
       "      <td>4</td>\n",
       "      <td>Life Sciences</td>\n",
       "      <td>4</td>\n",
       "      <td>3</td>\n",
       "      <td>Married</td>\n",
       "      <td>2909</td>\n",
       "      <td>1</td>\n",
       "      <td>3</td>\n",
       "      <td>8</td>\n",
       "    </tr>\n",
       "    <tr>\n",
       "      <th>4</th>\n",
       "      <td>27</td>\n",
       "      <td>No</td>\n",
       "      <td>Research &amp; Development</td>\n",
       "      <td>2</td>\n",
       "      <td>1</td>\n",
       "      <td>Medical</td>\n",
       "      <td>1</td>\n",
       "      <td>2</td>\n",
       "      <td>Married</td>\n",
       "      <td>3468</td>\n",
       "      <td>9</td>\n",
       "      <td>3</td>\n",
       "      <td>2</td>\n",
       "    </tr>\n",
       "  </tbody>\n",
       "</table>\n",
       "</div>"
      ],
      "text/plain": [
       "   Age Attrition              Department  DistanceFromHome  Education  \\\n",
       "0   41       Yes                   Sales                 1          2   \n",
       "1   49        No  Research & Development                 8          1   \n",
       "2   37       Yes  Research & Development                 2          2   \n",
       "3   33        No  Research & Development                 3          4   \n",
       "4   27        No  Research & Development                 2          1   \n",
       "\n",
       "  EducationField  EnvironmentSatisfaction  JobSatisfaction MaritalStatus  \\\n",
       "0  Life Sciences                        2                4        Single   \n",
       "1  Life Sciences                        3                2       Married   \n",
       "2          Other                        4                3        Single   \n",
       "3  Life Sciences                        4                3       Married   \n",
       "4        Medical                        1                2       Married   \n",
       "\n",
       "   MonthlyIncome  NumCompaniesWorked  WorkLifeBalance  YearsAtCompany  \n",
       "0           5993                   8                1               6  \n",
       "1           5130                   1                3              10  \n",
       "2           2090                   6                3               0  \n",
       "3           2909                   1                3               8  \n",
       "4           3468                   9                3               2  "
      ]
     },
     "execution_count": 3,
     "metadata": {},
     "output_type": "execute_result"
    }
   ],
   "source": [
    "dataset.head()"
   ]
  },
  {
   "cell_type": "code",
   "execution_count": 5,
   "metadata": {},
   "outputs": [
    {
     "data": {
      "image/png": "[encoded data removed]",
      "text/plain": [
       "<Figure size 864x432 with 1 Axes>"
      ]
     },
     "metadata": {
      "needs_background": "light"
     },
     "output_type": "display_data"
    }
   ],
   "source": [
    "## Plot the Age distribution \n",
    "plt.figure(figsize=(12,6))\n",
    "dataset['Age'].hist(bins=100)\n",
    "plt.title(\"Age distribution of employees\")\n",
    "plt.xlabel(\"Age\")\n",
    "plt.ylabel(\"No. of Employees\")\n",
    "plt.show()"
   ]
  },
  {
   "cell_type": "code",
   "execution_count": 6,
   "metadata": {},
   "outputs": [
    {
     "data": {
      "image/png": "[encoded data removed]",
      "text/plain": [
       "<Figure size 1152x720 with 1 Axes>"
      ]
     },
     "metadata": {
      "needs_background": "light"
     },
     "output_type": "display_data"
    }
   ],
   "source": [
    "## Explore Attrition by Age\n",
    "plt.figure(figsize=(16,10))\n",
    "sns.countplot(x='Age', hue='Attrition', data=dataset)\n",
    "plt.title(\"Attirtion by Age\")\n",
    "plt.show()"
   ]
  },
  {
   "cell_type": "code",
   "execution_count": 7,
   "metadata": {},
   "outputs": [
    {
     "data": {
      "image/png": "[encoded data removed]",
      "text/plain": [
       "<Figure size 432x288 with 1 Axes>"
      ]
     },
     "metadata": {
      "needs_background": "light"
     },
     "output_type": "display_data"
    }
   ],
   "source": [
    "## Explore data for Left employees\n",
    "sns.countplot(x='Attrition',data=dataset)\n",
    "plt.title(\"Attrition of Left Employees\")\n",
    "plt.show()"
   ]
  },
  {
   "cell_type": "code",
   "execution_count": 8,
   "metadata": {},
   "outputs": [
    {
     "data": {
      "image/png": "[encoded data removed]",
      "text/plain": [
       "<Figure size 720x576 with 1 Axes>"
      ]
     },
     "metadata": {
      "needs_background": "light"
     },
     "output_type": "display_data"
    }
   ],
   "source": [
    "## Explore the distribution of employees by the education field\n",
    "plt.figure(figsize=(10,8))\n",
    "sns.countplot(y='EducationField', hue='Attrition', data=dataset)\n",
    "plt.title(\"Employees distribution by Education field\")\n",
    "plt.show()"
   ]
  },
  {
   "cell_type": "code",
   "execution_count": 9,
   "metadata": {},
   "outputs": [
    {
     "data": {
      "image/png": "[encoded data removed]",
      "text/plain": [
       "<Figure size 576x576 with 1 Axes>"
      ]
     },
     "metadata": {
      "needs_background": "light"
     },
     "output_type": "display_data"
    }
   ],
   "source": [
    "## Explore number of Married and unmarried employees\n",
    "plt.figure(figsize=(8,8))\n",
    "sns.countplot(x='MaritalStatus', hue='Attrition', data=dataset)\n",
    "plt.title(\"Number of employees by Marital Status\")\n",
    "plt.show()"
   ]
  },
  {
   "cell_type": "code",
   "execution_count": 5,
   "metadata": {},
   "outputs": [
    {
     "data": {
      "text/html": [
       "<div>\n",
       "<style scoped>\n",
       "    .dataframe tbody tr th:only-of-type {\n",
       "        vertical-align: middle;\n",
       "    }\n",
       "\n",
       "    .dataframe tbody tr th {\n",
       "        vertical-align: top;\n",
       "    }\n",
       "\n",
       "    .dataframe thead th {\n",
       "        text-align: right;\n",
       "    }\n",
       "</style>\n",
       "<table border=\"1\" class=\"dataframe\">\n",
       "  <thead>\n",
       "    <tr style=\"text-align: right;\">\n",
       "      <th></th>\n",
       "      <th>Age</th>\n",
       "      <th>DistanceFromHome</th>\n",
       "      <th>Education</th>\n",
       "      <th>EnvironmentSatisfaction</th>\n",
       "      <th>JobSatisfaction</th>\n",
       "      <th>MonthlyIncome</th>\n",
       "      <th>NumCompaniesWorked</th>\n",
       "      <th>WorkLifeBalance</th>\n",
       "      <th>YearsAtCompany</th>\n",
       "    </tr>\n",
       "  </thead>\n",
       "  <tbody>\n",
       "    <tr>\n",
       "      <th>count</th>\n",
       "      <td>1470.000000</td>\n",
       "      <td>1470.000000</td>\n",
       "      <td>1470.000000</td>\n",
       "      <td>1470.000000</td>\n",
       "      <td>1470.000000</td>\n",
       "      <td>1470.000000</td>\n",
       "      <td>1470.000000</td>\n",
       "      <td>1470.000000</td>\n",
       "      <td>1470.000000</td>\n",
       "    </tr>\n",
       "    <tr>\n",
       "      <th>mean</th>\n",
       "      <td>36.923810</td>\n",
       "      <td>9.192517</td>\n",
       "      <td>2.912925</td>\n",
       "      <td>2.721769</td>\n",
       "      <td>2.728571</td>\n",
       "      <td>6502.931293</td>\n",
       "      <td>2.693197</td>\n",
       "      <td>2.761224</td>\n",
       "      <td>7.008163</td>\n",
       "    </tr>\n",
       "    <tr>\n",
       "      <th>std</th>\n",
       "      <td>9.135373</td>\n",
       "      <td>8.106864</td>\n",
       "      <td>1.024165</td>\n",
       "      <td>1.093082</td>\n",
       "      <td>1.102846</td>\n",
       "      <td>4707.956783</td>\n",
       "      <td>2.498009</td>\n",
       "      <td>0.706476</td>\n",
       "      <td>6.126525</td>\n",
       "    </tr>\n",
       "    <tr>\n",
       "      <th>min</th>\n",
       "      <td>18.000000</td>\n",
       "      <td>1.000000</td>\n",
       "      <td>1.000000</td>\n",
       "      <td>1.000000</td>\n",
       "      <td>1.000000</td>\n",
       "      <td>1009.000000</td>\n",
       "      <td>0.000000</td>\n",
       "      <td>1.000000</td>\n",
       "      <td>0.000000</td>\n",
       "    </tr>\n",
       "    <tr>\n",
       "      <th>25%</th>\n",
       "      <td>30.000000</td>\n",
       "      <td>2.000000</td>\n",
       "      <td>2.000000</td>\n",
       "      <td>2.000000</td>\n",
       "      <td>2.000000</td>\n",
       "      <td>2911.000000</td>\n",
       "      <td>1.000000</td>\n",
       "      <td>2.000000</td>\n",
       "      <td>3.000000</td>\n",
       "    </tr>\n",
       "    <tr>\n",
       "      <th>50%</th>\n",
       "      <td>36.000000</td>\n",
       "      <td>7.000000</td>\n",
       "      <td>3.000000</td>\n",
       "      <td>3.000000</td>\n",
       "      <td>3.000000</td>\n",
       "      <td>4919.000000</td>\n",
       "      <td>2.000000</td>\n",
       "      <td>3.000000</td>\n",
       "      <td>5.000000</td>\n",
       "    </tr>\n",
       "    <tr>\n",
       "      <th>75%</th>\n",
       "      <td>43.000000</td>\n",
       "      <td>14.000000</td>\n",
       "      <td>4.000000</td>\n",
       "      <td>4.000000</td>\n",
       "      <td>4.000000</td>\n",
       "      <td>8379.000000</td>\n",
       "      <td>4.000000</td>\n",
       "      <td>3.000000</td>\n",
       "      <td>9.000000</td>\n",
       "    </tr>\n",
       "    <tr>\n",
       "      <th>max</th>\n",
       "      <td>60.000000</td>\n",
       "      <td>29.000000</td>\n",
       "      <td>5.000000</td>\n",
       "      <td>4.000000</td>\n",
       "      <td>4.000000</td>\n",
       "      <td>19999.000000</td>\n",
       "      <td>9.000000</td>\n",
       "      <td>4.000000</td>\n",
       "      <td>40.000000</td>\n",
       "    </tr>\n",
       "  </tbody>\n",
       "</table>\n",
       "</div>"
      ],
      "text/plain": [
       "               Age  DistanceFromHome    Education  EnvironmentSatisfaction  \\\n",
       "count  1470.000000       1470.000000  1470.000000              1470.000000   \n",
       "mean     36.923810          9.192517     2.912925                 2.721769   \n",
       "std       9.135373          8.106864     1.024165                 1.093082   \n",
       "min      18.000000          1.000000     1.000000                 1.000000   \n",
       "25%      30.000000          2.000000     2.000000                 2.000000   \n",
       "50%      36.000000          7.000000     3.000000                 3.000000   \n",
       "75%      43.000000         14.000000     4.000000                 4.000000   \n",
       "max      60.000000         29.000000     5.000000                 4.000000   \n",
       "\n",
       "       JobSatisfaction  MonthlyIncome  NumCompaniesWorked  WorkLifeBalance  \\\n",
       "count      1470.000000    1470.000000         1470.000000      1470.000000   \n",
       "mean          2.728571    6502.931293            2.693197         2.761224   \n",
       "std           1.102846    4707.956783            2.498009         0.706476   \n",
       "min           1.000000    1009.000000            0.000000         1.000000   \n",
       "25%           2.000000    2911.000000            1.000000         2.000000   \n",
       "50%           3.000000    4919.000000            2.000000         3.000000   \n",
       "75%           4.000000    8379.000000            4.000000         3.000000   \n",
       "max           4.000000   19999.000000            9.000000         4.000000   \n",
       "\n",
       "       YearsAtCompany  \n",
       "count     1470.000000  \n",
       "mean         7.008163  \n",
       "std          6.126525  \n",
       "min          0.000000  \n",
       "25%          3.000000  \n",
       "50%          5.000000  \n",
       "75%          9.000000  \n",
       "max         40.000000  "
      ]
     },
     "execution_count": 5,
     "metadata": {},
     "output_type": "execute_result"
    }
   ],
   "source": [
    "## Build Logistic Regression Model to predict which employees are likely to attrite\n",
    "dataset.describe()"
   ]
  },
  {
   "cell_type": "code",
   "execution_count": 4,
   "metadata": {},
   "outputs": [
    {
     "name": "stdout",
     "output_type": "stream",
     "text": [
      "<class 'pandas.core.frame.DataFrame'>\n",
      "RangeIndex: 1470 entries, 0 to 1469\n",
      "Data columns (total 13 columns):\n",
      " #   Column                   Non-Null Count  Dtype \n",
      "---  ------                   --------------  ----- \n",
      " 0   Age                      1470 non-null   int64 \n",
      " 1   Attrition                1470 non-null   object\n",
      " 2   Department               1470 non-null   object\n",
      " 3   DistanceFromHome         1470 non-null   int64 \n",
      " 4   Education                1470 non-null   int64 \n",
      " 5   EducationField           1470 non-null   object\n",
      " 6   EnvironmentSatisfaction  1470 non-null   int64 \n",
      " 7   JobSatisfaction          1470 non-null   int64 \n",
      " 8   MaritalStatus            1470 non-null   object\n",
      " 9   MonthlyIncome            1470 non-null   int64 \n",
      " 10  NumCompaniesWorked       1470 non-null   int64 \n",
      " 11  WorkLifeBalance          1470 non-null   int64 \n",
      " 12  YearsAtCompany           1470 non-null   int64 \n",
      "dtypes: int64(9), object(4)\n",
      "memory usage: 149.4+ KB\n"
     ]
    }
   ],
   "source": [
    "dataset.info()"
   ]
  },
  {
   "cell_type": "code",
   "execution_count": 6,
   "metadata": {},
   "outputs": [
    {
     "data": {
      "text/plain": [
       "Index(['Age', 'Attrition', 'Department', 'DistanceFromHome', 'Education',\n",
       "       'EducationField', 'EnvironmentSatisfaction', 'JobSatisfaction',\n",
       "       'MaritalStatus', 'MonthlyIncome', 'NumCompaniesWorked',\n",
       "       'WorkLifeBalance', 'YearsAtCompany'],\n",
       "      dtype='object')"
      ]
     },
     "execution_count": 6,
     "metadata": {},
     "output_type": "execute_result"
    }
   ],
   "source": [
    "dataset.columns"
   ]
  },
  {
   "cell_type": "code",
   "execution_count": 7,
   "metadata": {},
   "outputs": [
    {
     "data": {
      "text/plain": [
       "No     1233\n",
       "Yes     237\n",
       "Name: Attrition, dtype: int64"
      ]
     },
     "execution_count": 7,
     "metadata": {},
     "output_type": "execute_result"
    }
   ],
   "source": [
    "dataset['Attrition'].value_counts()"
   ]
  },
  {
   "cell_type": "code",
   "execution_count": 8,
   "metadata": {},
   "outputs": [
    {
     "data": {
      "text/plain": [
       "dtype('O')"
      ]
     },
     "execution_count": 8,
     "metadata": {},
     "output_type": "execute_result"
    }
   ],
   "source": [
    "dataset['Attrition'].dtype"
   ]
  },
  {
   "cell_type": "code",
   "execution_count": 6,
   "metadata": {},
   "outputs": [],
   "source": [
    "dataset['Attrition'].replace('Yes',1, inplace=True)\n",
    "dataset['Attrition'].replace('No',0, inplace=True)"
   ]
  },
  {
   "cell_type": "code",
   "execution_count": 7,
   "metadata": {},
   "outputs": [
    {
     "data": {
      "text/html": [
       "<div>\n",
       "<style scoped>\n",
       "    .dataframe tbody tr th:only-of-type {\n",
       "        vertical-align: middle;\n",
       "    }\n",
       "\n",
       "    .dataframe tbody tr th {\n",
       "        vertical-align: top;\n",
       "    }\n",
       "\n",
       "    .dataframe thead th {\n",
       "        text-align: right;\n",
       "    }\n",
       "</style>\n",
       "<table border=\"1\" class=\"dataframe\">\n",
       "  <thead>\n",
       "    <tr style=\"text-align: right;\">\n",
       "      <th></th>\n",
       "      <th>Age</th>\n",
       "      <th>Attrition</th>\n",
       "      <th>Department</th>\n",
       "      <th>DistanceFromHome</th>\n",
       "      <th>Education</th>\n",
       "      <th>EducationField</th>\n",
       "      <th>EnvironmentSatisfaction</th>\n",
       "      <th>JobSatisfaction</th>\n",
       "      <th>MaritalStatus</th>\n",
       "      <th>MonthlyIncome</th>\n",
       "      <th>NumCompaniesWorked</th>\n",
       "      <th>WorkLifeBalance</th>\n",
       "      <th>YearsAtCompany</th>\n",
       "    </tr>\n",
       "  </thead>\n",
       "  <tbody>\n",
       "    <tr>\n",
       "      <th>0</th>\n",
       "      <td>41</td>\n",
       "      <td>1</td>\n",
       "      <td>Sales</td>\n",
       "      <td>1</td>\n",
       "      <td>2</td>\n",
       "      <td>Life Sciences</td>\n",
       "      <td>2</td>\n",
       "      <td>4</td>\n",
       "      <td>Single</td>\n",
       "      <td>5993</td>\n",
       "      <td>8</td>\n",
       "      <td>1</td>\n",
       "      <td>6</td>\n",
       "    </tr>\n",
       "    <tr>\n",
       "      <th>1</th>\n",
       "      <td>49</td>\n",
       "      <td>0</td>\n",
       "      <td>Research &amp; Development</td>\n",
       "      <td>8</td>\n",
       "      <td>1</td>\n",
       "      <td>Life Sciences</td>\n",
       "      <td>3</td>\n",
       "      <td>2</td>\n",
       "      <td>Married</td>\n",
       "      <td>5130</td>\n",
       "      <td>1</td>\n",
       "      <td>3</td>\n",
       "      <td>10</td>\n",
       "    </tr>\n",
       "    <tr>\n",
       "      <th>2</th>\n",
       "      <td>37</td>\n",
       "      <td>1</td>\n",
       "      <td>Research &amp; Development</td>\n",
       "      <td>2</td>\n",
       "      <td>2</td>\n",
       "      <td>Other</td>\n",
       "      <td>4</td>\n",
       "      <td>3</td>\n",
       "      <td>Single</td>\n",
       "      <td>2090</td>\n",
       "      <td>6</td>\n",
       "      <td>3</td>\n",
       "      <td>0</td>\n",
       "    </tr>\n",
       "    <tr>\n",
       "      <th>3</th>\n",
       "      <td>33</td>\n",
       "      <td>0</td>\n",
       "      <td>Research &amp; Development</td>\n",
       "      <td>3</td>\n",
       "      <td>4</td>\n",
       "      <td>Life Sciences</td>\n",
       "      <td>4</td>\n",
       "      <td>3</td>\n",
       "      <td>Married</td>\n",
       "      <td>2909</td>\n",
       "      <td>1</td>\n",
       "      <td>3</td>\n",
       "      <td>8</td>\n",
       "    </tr>\n",
       "    <tr>\n",
       "      <th>4</th>\n",
       "      <td>27</td>\n",
       "      <td>0</td>\n",
       "      <td>Research &amp; Development</td>\n",
       "      <td>2</td>\n",
       "      <td>1</td>\n",
       "      <td>Medical</td>\n",
       "      <td>1</td>\n",
       "      <td>2</td>\n",
       "      <td>Married</td>\n",
       "      <td>3468</td>\n",
       "      <td>9</td>\n",
       "      <td>3</td>\n",
       "      <td>2</td>\n",
       "    </tr>\n",
       "    <tr>\n",
       "      <th>5</th>\n",
       "      <td>32</td>\n",
       "      <td>0</td>\n",
       "      <td>Research &amp; Development</td>\n",
       "      <td>2</td>\n",
       "      <td>2</td>\n",
       "      <td>Life Sciences</td>\n",
       "      <td>4</td>\n",
       "      <td>4</td>\n",
       "      <td>Single</td>\n",
       "      <td>3068</td>\n",
       "      <td>0</td>\n",
       "      <td>2</td>\n",
       "      <td>7</td>\n",
       "    </tr>\n",
       "    <tr>\n",
       "      <th>6</th>\n",
       "      <td>59</td>\n",
       "      <td>0</td>\n",
       "      <td>Research &amp; Development</td>\n",
       "      <td>3</td>\n",
       "      <td>3</td>\n",
       "      <td>Medical</td>\n",
       "      <td>3</td>\n",
       "      <td>1</td>\n",
       "      <td>Married</td>\n",
       "      <td>2670</td>\n",
       "      <td>4</td>\n",
       "      <td>2</td>\n",
       "      <td>1</td>\n",
       "    </tr>\n",
       "    <tr>\n",
       "      <th>7</th>\n",
       "      <td>30</td>\n",
       "      <td>0</td>\n",
       "      <td>Research &amp; Development</td>\n",
       "      <td>24</td>\n",
       "      <td>1</td>\n",
       "      <td>Life Sciences</td>\n",
       "      <td>4</td>\n",
       "      <td>3</td>\n",
       "      <td>Divorced</td>\n",
       "      <td>2693</td>\n",
       "      <td>1</td>\n",
       "      <td>3</td>\n",
       "      <td>1</td>\n",
       "    </tr>\n",
       "    <tr>\n",
       "      <th>8</th>\n",
       "      <td>38</td>\n",
       "      <td>0</td>\n",
       "      <td>Research &amp; Development</td>\n",
       "      <td>23</td>\n",
       "      <td>3</td>\n",
       "      <td>Life Sciences</td>\n",
       "      <td>4</td>\n",
       "      <td>3</td>\n",
       "      <td>Single</td>\n",
       "      <td>9526</td>\n",
       "      <td>0</td>\n",
       "      <td>3</td>\n",
       "      <td>9</td>\n",
       "    </tr>\n",
       "    <tr>\n",
       "      <th>9</th>\n",
       "      <td>36</td>\n",
       "      <td>0</td>\n",
       "      <td>Research &amp; Development</td>\n",
       "      <td>27</td>\n",
       "      <td>3</td>\n",
       "      <td>Medical</td>\n",
       "      <td>3</td>\n",
       "      <td>3</td>\n",
       "      <td>Married</td>\n",
       "      <td>5237</td>\n",
       "      <td>6</td>\n",
       "      <td>2</td>\n",
       "      <td>7</td>\n",
       "    </tr>\n",
       "  </tbody>\n",
       "</table>\n",
       "</div>"
      ],
      "text/plain": [
       "   Age  Attrition              Department  DistanceFromHome  Education  \\\n",
       "0   41          1                   Sales                 1          2   \n",
       "1   49          0  Research & Development                 8          1   \n",
       "2   37          1  Research & Development                 2          2   \n",
       "3   33          0  Research & Development                 3          4   \n",
       "4   27          0  Research & Development                 2          1   \n",
       "5   32          0  Research & Development                 2          2   \n",
       "6   59          0  Research & Development                 3          3   \n",
       "7   30          0  Research & Development                24          1   \n",
       "8   38          0  Research & Development                23          3   \n",
       "9   36          0  Research & Development                27          3   \n",
       "\n",
       "  EducationField  EnvironmentSatisfaction  JobSatisfaction MaritalStatus  \\\n",
       "0  Life Sciences                        2                4        Single   \n",
       "1  Life Sciences                        3                2       Married   \n",
       "2          Other                        4                3        Single   \n",
       "3  Life Sciences                        4                3       Married   \n",
       "4        Medical                        1                2       Married   \n",
       "5  Life Sciences                        4                4        Single   \n",
       "6        Medical                        3                1       Married   \n",
       "7  Life Sciences                        4                3      Divorced   \n",
       "8  Life Sciences                        4                3        Single   \n",
       "9        Medical                        3                3       Married   \n",
       "\n",
       "   MonthlyIncome  NumCompaniesWorked  WorkLifeBalance  YearsAtCompany  \n",
       "0           5993                   8                1               6  \n",
       "1           5130                   1                3              10  \n",
       "2           2090                   6                3               0  \n",
       "3           2909                   1                3               8  \n",
       "4           3468                   9                3               2  \n",
       "5           3068                   0                2               7  \n",
       "6           2670                   4                2               1  \n",
       "7           2693                   1                3               1  \n",
       "8           9526                   0                3               9  \n",
       "9           5237                   6                2               7  "
      ]
     },
     "execution_count": 7,
     "metadata": {},
     "output_type": "execute_result"
    }
   ],
   "source": [
    "dataset.head(10)"
   ]
  },
  {
   "cell_type": "code",
   "execution_count": 9,
   "metadata": {},
   "outputs": [
    {
     "data": {
      "text/html": [
       "<div>\n",
       "<style scoped>\n",
       "    .dataframe tbody tr th:only-of-type {\n",
       "        vertical-align: middle;\n",
       "    }\n",
       "\n",
       "    .dataframe tbody tr th {\n",
       "        vertical-align: top;\n",
       "    }\n",
       "\n",
       "    .dataframe thead th {\n",
       "        text-align: right;\n",
       "    }\n",
       "</style>\n",
       "<table border=\"1\" class=\"dataframe\">\n",
       "  <thead>\n",
       "    <tr style=\"text-align: right;\">\n",
       "      <th></th>\n",
       "      <th>Age</th>\n",
       "      <th>Department</th>\n",
       "      <th>DistanceFromHome</th>\n",
       "      <th>Education</th>\n",
       "      <th>EducationField</th>\n",
       "      <th>EnvironmentSatisfaction</th>\n",
       "      <th>JobSatisfaction</th>\n",
       "      <th>MaritalStatus</th>\n",
       "      <th>MonthlyIncome</th>\n",
       "      <th>NumCompaniesWorked</th>\n",
       "      <th>WorkLifeBalance</th>\n",
       "      <th>YearsAtCompany</th>\n",
       "    </tr>\n",
       "  </thead>\n",
       "  <tbody>\n",
       "    <tr>\n",
       "      <th>0</th>\n",
       "      <td>41</td>\n",
       "      <td>Sales</td>\n",
       "      <td>1</td>\n",
       "      <td>2</td>\n",
       "      <td>Life Sciences</td>\n",
       "      <td>2</td>\n",
       "      <td>4</td>\n",
       "      <td>Single</td>\n",
       "      <td>5993</td>\n",
       "      <td>8</td>\n",
       "      <td>1</td>\n",
       "      <td>6</td>\n",
       "    </tr>\n",
       "    <tr>\n",
       "      <th>1</th>\n",
       "      <td>49</td>\n",
       "      <td>Research &amp; Development</td>\n",
       "      <td>8</td>\n",
       "      <td>1</td>\n",
       "      <td>Life Sciences</td>\n",
       "      <td>3</td>\n",
       "      <td>2</td>\n",
       "      <td>Married</td>\n",
       "      <td>5130</td>\n",
       "      <td>1</td>\n",
       "      <td>3</td>\n",
       "      <td>10</td>\n",
       "    </tr>\n",
       "    <tr>\n",
       "      <th>2</th>\n",
       "      <td>37</td>\n",
       "      <td>Research &amp; Development</td>\n",
       "      <td>2</td>\n",
       "      <td>2</td>\n",
       "      <td>Other</td>\n",
       "      <td>4</td>\n",
       "      <td>3</td>\n",
       "      <td>Single</td>\n",
       "      <td>2090</td>\n",
       "      <td>6</td>\n",
       "      <td>3</td>\n",
       "      <td>0</td>\n",
       "    </tr>\n",
       "    <tr>\n",
       "      <th>3</th>\n",
       "      <td>33</td>\n",
       "      <td>Research &amp; Development</td>\n",
       "      <td>3</td>\n",
       "      <td>4</td>\n",
       "      <td>Life Sciences</td>\n",
       "      <td>4</td>\n",
       "      <td>3</td>\n",
       "      <td>Married</td>\n",
       "      <td>2909</td>\n",
       "      <td>1</td>\n",
       "      <td>3</td>\n",
       "      <td>8</td>\n",
       "    </tr>\n",
       "    <tr>\n",
       "      <th>4</th>\n",
       "      <td>27</td>\n",
       "      <td>Research &amp; Development</td>\n",
       "      <td>2</td>\n",
       "      <td>1</td>\n",
       "      <td>Medical</td>\n",
       "      <td>1</td>\n",
       "      <td>2</td>\n",
       "      <td>Married</td>\n",
       "      <td>3468</td>\n",
       "      <td>9</td>\n",
       "      <td>3</td>\n",
       "      <td>2</td>\n",
       "    </tr>\n",
       "  </tbody>\n",
       "</table>\n",
       "</div>"
      ],
      "text/plain": [
       "   Age              Department  DistanceFromHome  Education EducationField  \\\n",
       "0   41                   Sales                 1          2  Life Sciences   \n",
       "1   49  Research & Development                 8          1  Life Sciences   \n",
       "2   37  Research & Development                 2          2          Other   \n",
       "3   33  Research & Development                 3          4  Life Sciences   \n",
       "4   27  Research & Development                 2          1        Medical   \n",
       "\n",
       "   EnvironmentSatisfaction  JobSatisfaction MaritalStatus  MonthlyIncome  \\\n",
       "0                        2                4        Single           5993   \n",
       "1                        3                2       Married           5130   \n",
       "2                        4                3        Single           2090   \n",
       "3                        4                3       Married           2909   \n",
       "4                        1                2       Married           3468   \n",
       "\n",
       "   NumCompaniesWorked  WorkLifeBalance  YearsAtCompany  \n",
       "0                   8                1               6  \n",
       "1                   1                3              10  \n",
       "2                   6                3               0  \n",
       "3                   1                3               8  \n",
       "4                   9                3               2  "
      ]
     },
     "execution_count": 9,
     "metadata": {},
     "output_type": "execute_result"
    }
   ],
   "source": [
    "X=dataset.drop(['Attrition'],axis=1)\n",
    "X.head()"
   ]
  },
  {
   "cell_type": "code",
   "execution_count": 10,
   "metadata": {},
   "outputs": [
    {
     "data": {
      "text/plain": [
       "0    1\n",
       "1    0\n",
       "2    1\n",
       "3    0\n",
       "4    0\n",
       "Name: Attrition, dtype: int64"
      ]
     },
     "execution_count": 10,
     "metadata": {},
     "output_type": "execute_result"
    }
   ],
   "source": [
    "Y=dataset['Attrition']\n",
    "Y.head()"
   ]
  },
  {
   "cell_type": "code",
   "execution_count": 11,
   "metadata": {},
   "outputs": [],
   "source": [
    "dataset['EducationField'].replace('Life Sciences',1, inplace=True)\n",
    "dataset['EducationField'].replace('Medical',2, inplace=True)\n",
    "dataset['EducationField'].replace('Marketing',3, inplace=True)\n",
    "dataset['EducationField'].replace('Other',4, inplace=True)\n",
    "dataset['EducationField'].replace('Technical Degree',5, inplace=True)\n",
    "dataset['EducationField'].replace('Human Resources',6, inplace=True)\n",
    "dataset['Department'].replace('Research & Development',1, inplace=True)\n",
    "dataset['Department'].replace('Sales',2, inplace=True)\n",
    "dataset['Department'].replace('Human Resources',3, inplace=True)\n",
    "dataset['MaritalStatus'].replace('Married',1, inplace=True)\n",
    "dataset['MaritalStatus'].replace('Single',2, inplace=True)\n",
    "dataset['MaritalStatus'].replace('Divorced',3, inplace=True)"
   ]
  },
  {
   "cell_type": "code",
   "execution_count": 12,
   "metadata": {},
   "outputs": [
    {
     "data": {
      "text/plain": [
       "1    606\n",
       "2    464\n",
       "3    159\n",
       "5    132\n",
       "4     82\n",
       "6     27\n",
       "Name: EducationField, dtype: int64"
      ]
     },
     "execution_count": 12,
     "metadata": {},
     "output_type": "execute_result"
    }
   ],
   "source": [
    "dataset['EducationField'].value_counts()"
   ]
  },
  {
   "cell_type": "code",
   "execution_count": 15,
   "metadata": {},
   "outputs": [
    {
     "data": {
      "text/plain": [
       "1    961\n",
       "2    446\n",
       "3     63\n",
       "Name: Department, dtype: int64"
      ]
     },
     "execution_count": 15,
     "metadata": {},
     "output_type": "execute_result"
    }
   ],
   "source": [
    "dataset['Department'].value_counts()"
   ]
  },
  {
   "cell_type": "code",
   "execution_count": 16,
   "metadata": {},
   "outputs": [
    {
     "data": {
      "text/plain": [
       "1    673\n",
       "2    470\n",
       "3    327\n",
       "Name: MaritalStatus, dtype: int64"
      ]
     },
     "execution_count": 16,
     "metadata": {},
     "output_type": "execute_result"
    }
   ],
   "source": [
    "dataset['MaritalStatus'].value_counts()"
   ]
  },
  {
   "cell_type": "code",
   "execution_count": 17,
   "metadata": {},
   "outputs": [
    {
     "data": {
      "text/plain": [
       "Age                        int64\n",
       "Attrition                  int64\n",
       "Department                 int64\n",
       "DistanceFromHome           int64\n",
       "Education                  int64\n",
       "EducationField             int64\n",
       "EnvironmentSatisfaction    int64\n",
       "JobSatisfaction            int64\n",
       "MaritalStatus              int64\n",
       "MonthlyIncome              int64\n",
       "NumCompaniesWorked         int64\n",
       "WorkLifeBalance            int64\n",
       "YearsAtCompany             int64\n",
       "dtype: object"
      ]
     },
     "execution_count": 17,
     "metadata": {},
     "output_type": "execute_result"
    }
   ],
   "source": [
    "x=dataset.select_dtypes(include=['int64'])\n",
    "x.dtypes"
   ]
  },
  {
   "cell_type": "code",
   "execution_count": 18,
   "metadata": {},
   "outputs": [
    {
     "data": {
      "text/plain": [
       "Index(['Age', 'Attrition', 'Department', 'DistanceFromHome', 'Education',\n",
       "       'EducationField', 'EnvironmentSatisfaction', 'JobSatisfaction',\n",
       "       'MaritalStatus', 'MonthlyIncome', 'NumCompaniesWorked',\n",
       "       'WorkLifeBalance', 'YearsAtCompany'],\n",
       "      dtype='object')"
      ]
     },
     "execution_count": 18,
     "metadata": {},
     "output_type": "execute_result"
    }
   ],
   "source": [
    "x.columns"
   ]
  },
  {
   "cell_type": "code",
   "execution_count": 19,
   "metadata": {},
   "outputs": [
    {
     "data": {
      "text/plain": [
       "0    1\n",
       "1    0\n",
       "2    1\n",
       "3    0\n",
       "4    0\n",
       "Name: Attrition, dtype: int64"
      ]
     },
     "execution_count": 19,
     "metadata": {},
     "output_type": "execute_result"
    }
   ],
   "source": [
    "y=dataset['Attrition']\n",
    "y.head()"
   ]
  },
  {
   "cell_type": "code",
   "execution_count": 13,
   "metadata": {},
   "outputs": [
    {
     "name": "stdout",
     "output_type": "stream",
     "text": [
      "Index(['Intercept', 'Age', 'Department', 'DistanceFromHome', 'Education',\n",
      "       'EducationField', 'YearsAtCompany'],\n",
      "      dtype='object')\n"
     ]
    }
   ],
   "source": [
    "y, x = dmatrices(\"Attrition ~ Age + Department + DistanceFromHome + Education + EducationField + YearsAtCompany\",\n",
    "                 dataset, return_type=\"dataframe\")\n",
    "print(x.columns)"
   ]
  },
  {
   "cell_type": "code",
   "execution_count": 14,
   "metadata": {},
   "outputs": [],
   "source": [
    "y=np.ravel(y)"
   ]
  },
  {
   "cell_type": "code",
   "execution_count": 15,
   "metadata": {},
   "outputs": [
    {
     "data": {
      "text/plain": [
       "0.8408163265306122"
      ]
     },
     "execution_count": 15,
     "metadata": {},
     "output_type": "execute_result"
    }
   ],
   "source": [
    "import sklearn\n",
    "import statsmodels.api as sm\n",
    "from sklearn.linear_model import LogisticRegression\n",
    "model = LogisticRegression()\n",
    "model = model.fit(x, y)\n",
    "\n",
    "## Check accuracy on the training set\n",
    "\n",
    "model.score(x, y)"
   ]
  },
  {
   "cell_type": "code",
   "execution_count": 26,
   "metadata": {},
   "outputs": [
    {
     "data": {
      "text/plain": [
       "0.16122448979591836"
      ]
     },
     "execution_count": 26,
     "metadata": {},
     "output_type": "execute_result"
    }
   ],
   "source": [
    "y.mean()"
   ]
  },
  {
   "cell_type": "code",
   "execution_count": 21,
   "metadata": {},
   "outputs": [
    {
     "data": {
      "text/plain": [
       "LogisticRegression()"
      ]
     },
     "execution_count": 21,
     "metadata": {},
     "output_type": "execute_result"
    }
   ],
   "source": [
    "X_train,X_test,y_train,y_test=sklearn.model_selection.train_test_split(x,y, test_size=0.3, random_state=0)\n",
    "model2=LogisticRegression()\n",
    "model2.fit(X_train, y_train)"
   ]
  },
  {
   "cell_type": "code",
   "execution_count": 22,
   "metadata": {},
   "outputs": [
    {
     "name": "stdout",
     "output_type": "stream",
     "text": [
      "[0. 0. 0. 0. 0. 0. 0. 0. 0. 0. 0. 0. 0. 0. 0. 0. 0. 0. 0. 0. 0. 0. 0. 0.\n",
      " 0. 0. 0. 0. 0. 0. 0. 0. 0. 0. 0. 0. 0. 0. 0. 0. 0. 0. 0. 0. 0. 0. 0. 0.\n",
      " 0. 0. 0. 0. 0. 0. 0. 0. 0. 0. 0. 0. 0. 0. 0. 0. 0. 0. 0. 0. 0. 0. 0. 0.\n",
      " 0. 0. 0. 0. 0. 0. 0. 0. 0. 0. 0. 0. 0. 0. 0. 0. 0. 0. 0. 0. 0. 0. 0. 0.\n",
      " 0. 0. 0. 0. 0. 0. 0. 0. 0. 0. 0. 0. 0. 0. 0. 0. 0. 0. 0. 0. 0. 0. 0. 0.\n",
      " 0. 0. 0. 0. 0. 0. 0. 0. 0. 0. 0. 0. 0. 0. 0. 0. 0. 0. 0. 0. 0. 0. 0. 0.\n",
      " 0. 0. 0. 0. 0. 0. 0. 0. 0. 0. 0. 0. 0. 0. 0. 0. 0. 0. 0. 0. 0. 0. 0. 0.\n",
      " 0. 0. 0. 0. 0. 0. 0. 0. 0. 0. 0. 0. 0. 0. 0. 0. 0. 0. 0. 0. 0. 0. 0. 0.\n",
      " 0. 0. 0. 0. 0. 0. 0. 0. 0. 0. 0. 0. 0. 0. 0. 0. 0. 0. 0. 0. 0. 0. 0. 0.\n",
      " 0. 0. 0. 0. 0. 0. 0. 0. 0. 0. 0. 0. 0. 0. 0. 0. 0. 0. 0. 0. 0. 0. 0. 0.\n",
      " 0. 0. 0. 0. 0. 0. 0. 0. 0. 0. 0. 0. 0. 0. 0. 0. 0. 0. 0. 0. 0. 0. 0. 0.\n",
      " 0. 0. 0. 0. 0. 0. 0. 0. 0. 0. 0. 0. 0. 0. 0. 0. 0. 0. 0. 0. 0. 0. 0. 0.\n",
      " 0. 0. 0. 0. 0. 0. 0. 0. 0. 0. 0. 0. 0. 0. 0. 0. 0. 0. 0. 0. 0. 0. 0. 0.\n",
      " 0. 0. 0. 0. 0. 0. 0. 0. 1. 0. 0. 0. 0. 0. 0. 0. 0. 0. 0. 0. 0. 0. 0. 0.\n",
      " 0. 0. 0. 0. 0. 0. 0. 0. 0. 0. 0. 0. 0. 0. 0. 0. 0. 0. 0. 0. 0. 0. 0. 0.\n",
      " 0. 0. 0. 0. 0. 0. 0. 0. 0. 0. 0. 0. 0. 0. 0. 0. 0. 0. 0. 0. 0. 0. 0. 0.\n",
      " 0. 0. 0. 0. 0. 0. 0. 0. 0. 0. 0. 0. 0. 0. 0. 0. 0. 0. 0. 0. 0. 0. 0. 0.\n",
      " 0. 0. 0. 0. 0. 0. 0. 0. 0. 0. 0. 0. 0. 0. 0. 0. 0. 0. 0. 0. 0. 0. 0. 0.\n",
      " 0. 0. 0. 0. 0. 0. 0. 0. 0.]\n"
     ]
    }
   ],
   "source": [
    "predicted=model2.predict(X_test)\n",
    "print(predicted)"
   ]
  },
  {
   "cell_type": "code",
   "execution_count": 23,
   "metadata": {},
   "outputs": [
    {
     "name": "stdout",
     "output_type": "stream",
     "text": [
      "[[0.86179625 0.13820375]\n",
      " [0.80754593 0.19245407]\n",
      " [0.74123939 0.25876061]\n",
      " [0.83441335 0.16558665]\n",
      " [0.73499938 0.26500062]\n",
      " [0.79097744 0.20902256]\n",
      " [0.85615198 0.14384802]\n",
      " [0.85699671 0.14300329]\n",
      " [0.96699056 0.03300944]\n",
      " [0.93685207 0.06314793]\n",
      " [0.95099274 0.04900726]\n",
      " [0.83101547 0.16898453]\n",
      " [0.86296555 0.13703445]\n",
      " [0.86581193 0.13418807]\n",
      " [0.88750601 0.11249399]\n",
      " [0.88892617 0.11107383]\n",
      " [0.88569724 0.11430276]\n",
      " [0.78516585 0.21483415]\n",
      " [0.7979449  0.2020551 ]\n",
      " [0.88511301 0.11488699]\n",
      " [0.70651596 0.29348404]\n",
      " [0.94676691 0.05323309]\n",
      " [0.86736255 0.13263745]\n",
      " [0.84276454 0.15723546]\n",
      " [0.60336851 0.39663149]\n",
      " [0.811292   0.188708  ]\n",
      " [0.91813729 0.08186271]\n",
      " [0.93285521 0.06714479]\n",
      " [0.68230761 0.31769239]\n",
      " [0.87027136 0.12972864]\n",
      " [0.87266384 0.12733616]\n",
      " [0.7696874  0.2303126 ]\n",
      " [0.86435769 0.13564231]\n",
      " [0.95758879 0.04241121]\n",
      " [0.84461485 0.15538515]\n",
      " [0.8671935  0.1328065 ]\n",
      " [0.90465979 0.09534021]\n",
      " [0.68936427 0.31063573]\n",
      " [0.90703616 0.09296384]\n",
      " [0.80663477 0.19336523]\n",
      " [0.91515724 0.08484276]\n",
      " [0.82351275 0.17648725]\n",
      " [0.93711514 0.06288486]\n",
      " [0.93411324 0.06588676]\n",
      " [0.89447653 0.10552347]\n",
      " [0.85317747 0.14682253]\n",
      " [0.78922388 0.21077612]\n",
      " [0.84879887 0.15120113]\n",
      " [0.66402457 0.33597543]\n",
      " [0.76252297 0.23747703]\n",
      " [0.92851109 0.07148891]\n",
      " [0.78953697 0.21046303]\n",
      " [0.86166595 0.13833405]\n",
      " [0.85837887 0.14162113]\n",
      " [0.87217673 0.12782327]\n",
      " [0.78950898 0.21049102]\n",
      " [0.87690792 0.12309208]\n",
      " [0.84165447 0.15834553]\n",
      " [0.72847153 0.27152847]\n",
      " [0.83181407 0.16818593]\n",
      " [0.90095035 0.09904965]\n",
      " [0.71077332 0.28922668]\n",
      " [0.92823021 0.07176979]\n",
      " [0.84375681 0.15624319]\n",
      " [0.79544108 0.20455892]\n",
      " [0.86826158 0.13173842]\n",
      " [0.91679451 0.08320549]\n",
      " [0.84763056 0.15236944]\n",
      " [0.89253707 0.10746293]\n",
      " [0.62872122 0.37127878]\n",
      " [0.9387539  0.0612461 ]\n",
      " [0.72620335 0.27379665]\n",
      " [0.85652974 0.14347026]\n",
      " [0.84226022 0.15773978]\n",
      " [0.77436391 0.22563609]\n",
      " [0.71899557 0.28100443]\n",
      " [0.93587386 0.06412614]\n",
      " [0.95710069 0.04289931]\n",
      " [0.79185841 0.20814159]\n",
      " [0.89370438 0.10629562]\n",
      " [0.91382038 0.08617962]\n",
      " [0.7935459  0.2064541 ]\n",
      " [0.77934023 0.22065977]\n",
      " [0.79638992 0.20361008]\n",
      " [0.83800496 0.16199504]\n",
      " [0.71395671 0.28604329]\n",
      " [0.97772715 0.02227285]\n",
      " [0.94645972 0.05354028]\n",
      " [0.88617624 0.11382376]\n",
      " [0.79620164 0.20379836]\n",
      " [0.61863836 0.38136164]\n",
      " [0.81866469 0.18133531]\n",
      " [0.74504132 0.25495868]\n",
      " [0.86779495 0.13220505]\n",
      " [0.87071139 0.12928861]\n",
      " [0.81717471 0.18282529]\n",
      " [0.71840764 0.28159236]\n",
      " [0.59825899 0.40174101]\n",
      " [0.83951549 0.16048451]\n",
      " [0.88351325 0.11648675]\n",
      " [0.74352581 0.25647419]\n",
      " [0.76631615 0.23368385]\n",
      " [0.98033036 0.01966964]\n",
      " [0.91857466 0.08142534]\n",
      " [0.77432841 0.22567159]\n",
      " [0.92514814 0.07485186]\n",
      " [0.88123383 0.11876617]\n",
      " [0.74587179 0.25412821]\n",
      " [0.90478361 0.09521639]\n",
      " [0.78685526 0.21314474]\n",
      " [0.8114777  0.1885223 ]\n",
      " [0.93472171 0.06527829]\n",
      " [0.93836501 0.06163499]\n",
      " [0.79411745 0.20588255]\n",
      " [0.81372902 0.18627098]\n",
      " [0.91610918 0.08389082]\n",
      " [0.90428343 0.09571657]\n",
      " [0.84669423 0.15330577]\n",
      " [0.95384551 0.04615449]\n",
      " [0.91283691 0.08716309]\n",
      " [0.85919602 0.14080398]\n",
      " [0.85902499 0.14097501]\n",
      " [0.87519518 0.12480482]\n",
      " [0.7611467  0.2388533 ]\n",
      " [0.92217685 0.07782315]\n",
      " [0.96859409 0.03140591]\n",
      " [0.94398218 0.05601782]\n",
      " [0.81780292 0.18219708]\n",
      " [0.88058703 0.11941297]\n",
      " [0.77894283 0.22105717]\n",
      " [0.97124464 0.02875536]\n",
      " [0.88807661 0.11192339]\n",
      " [0.78715261 0.21284739]\n",
      " [0.82001482 0.17998518]\n",
      " [0.94934542 0.05065458]\n",
      " [0.95888932 0.04111068]\n",
      " [0.73559224 0.26440776]\n",
      " [0.93416995 0.06583005]\n",
      " [0.73750637 0.26249363]\n",
      " [0.8213675  0.1786325 ]\n",
      " [0.821712   0.178288  ]\n",
      " [0.89896703 0.10103297]\n",
      " [0.78745762 0.21254238]\n",
      " [0.89825348 0.10174652]\n",
      " [0.91433817 0.08566183]\n",
      " [0.92724744 0.07275256]\n",
      " [0.96594965 0.03405035]\n",
      " [0.94417364 0.05582636]\n",
      " [0.93073081 0.06926919]\n",
      " [0.66320586 0.33679414]\n",
      " [0.84168651 0.15831349]\n",
      " [0.82636817 0.17363183]\n",
      " [0.80616639 0.19383361]\n",
      " [0.96157632 0.03842368]\n",
      " [0.93515159 0.06484841]\n",
      " [0.94778623 0.05221377]\n",
      " [0.97337825 0.02662175]\n",
      " [0.79297057 0.20702943]\n",
      " [0.87770194 0.12229806]\n",
      " [0.86103662 0.13896338]\n",
      " [0.95185478 0.04814522]\n",
      " [0.93131494 0.06868506]\n",
      " [0.75685359 0.24314641]\n",
      " [0.74997802 0.25002198]\n",
      " [0.95527865 0.04472135]\n",
      " [0.8695072  0.1304928 ]\n",
      " [0.81376769 0.18623231]\n",
      " [0.76990617 0.23009383]\n",
      " [0.80077911 0.19922089]\n",
      " [0.9280112  0.0719888 ]\n",
      " [0.90949245 0.09050755]\n",
      " [0.94557625 0.05442375]\n",
      " [0.93330465 0.06669535]\n",
      " [0.69145909 0.30854091]\n",
      " [0.93056881 0.06943119]\n",
      " [0.74525426 0.25474574]\n",
      " [0.78594343 0.21405657]\n",
      " [0.933086   0.066914  ]\n",
      " [0.8087829  0.1912171 ]\n",
      " [0.85096457 0.14903543]\n",
      " [0.66956281 0.33043719]\n",
      " [0.90338379 0.09661621]\n",
      " [0.91158931 0.08841069]\n",
      " [0.87300498 0.12699502]\n",
      " [0.92939054 0.07060946]\n",
      " [0.66661726 0.33338274]\n",
      " [0.89098513 0.10901487]\n",
      " [0.86216707 0.13783293]\n",
      " [0.78838554 0.21161446]\n",
      " [0.53099617 0.46900383]\n",
      " [0.73344328 0.26655672]\n",
      " [0.71053983 0.28946017]\n",
      " [0.85530492 0.14469508]\n",
      " [0.86960596 0.13039404]\n",
      " [0.75470006 0.24529994]\n",
      " [0.89823512 0.10176488]\n",
      " [0.79247841 0.20752159]\n",
      " [0.90643139 0.09356861]\n",
      " [0.77650778 0.22349222]\n",
      " [0.88387788 0.11612212]\n",
      " [0.8540431  0.1459569 ]\n",
      " [0.81899362 0.18100638]\n",
      " [0.74448519 0.25551481]\n",
      " [0.86259434 0.13740566]\n",
      " [0.77822625 0.22177375]\n",
      " [0.76928325 0.23071675]\n",
      " [0.79679228 0.20320772]\n",
      " [0.92096591 0.07903409]\n",
      " [0.74573771 0.25426229]\n",
      " [0.87499226 0.12500774]\n",
      " [0.85503288 0.14496712]\n",
      " [0.77292156 0.22707844]\n",
      " [0.87227273 0.12772727]\n",
      " [0.67395357 0.32604643]\n",
      " [0.93621663 0.06378337]\n",
      " [0.82479478 0.17520522]\n",
      " [0.95146046 0.04853954]\n",
      " [0.83462451 0.16537549]\n",
      " [0.81106478 0.18893522]\n",
      " [0.80828258 0.19171742]\n",
      " [0.87664152 0.12335848]\n",
      " [0.66786996 0.33213004]\n",
      " [0.59616853 0.40383147]\n",
      " [0.98979364 0.01020636]\n",
      " [0.706344   0.293656  ]\n",
      " [0.91633089 0.08366911]\n",
      " [0.92133474 0.07866526]\n",
      " [0.71383909 0.28616091]\n",
      " [0.62453949 0.37546051]\n",
      " [0.76440578 0.23559422]\n",
      " [0.95401652 0.04598348]\n",
      " [0.88186723 0.11813277]\n",
      " [0.86019899 0.13980101]\n",
      " [0.92117379 0.07882621]\n",
      " [0.88019167 0.11980833]\n",
      " [0.8045143  0.1954857 ]\n",
      " [0.80585183 0.19414817]\n",
      " [0.91345491 0.08654509]\n",
      " [0.72101811 0.27898189]\n",
      " [0.94508002 0.05491998]\n",
      " [0.90906906 0.09093094]\n",
      " [0.73381751 0.26618249]\n",
      " [0.98109184 0.01890816]\n",
      " [0.85490449 0.14509551]\n",
      " [0.89817069 0.10182931]\n",
      " [0.82436993 0.17563007]\n",
      " [0.83387097 0.16612903]\n",
      " [0.88136645 0.11863355]\n",
      " [0.88031307 0.11968693]\n",
      " [0.87560622 0.12439378]\n",
      " [0.816172   0.183828  ]\n",
      " [0.88028846 0.11971154]\n",
      " [0.61530839 0.38469161]\n",
      " [0.88826156 0.11173844]\n",
      " [0.89692812 0.10307188]\n",
      " [0.85328926 0.14671074]\n",
      " [0.98297041 0.01702959]\n",
      " [0.77341241 0.22658759]\n",
      " [0.62184884 0.37815116]\n",
      " [0.82739135 0.17260865]\n",
      " [0.84083339 0.15916661]\n",
      " [0.84808607 0.15191393]\n",
      " [0.84937028 0.15062972]\n",
      " [0.75540991 0.24459009]\n",
      " [0.86188858 0.13811142]\n",
      " [0.90684688 0.09315312]\n",
      " [0.84663273 0.15336727]\n",
      " [0.81290905 0.18709095]\n",
      " [0.7405358  0.2594642 ]\n",
      " [0.87035276 0.12964724]\n",
      " [0.83938093 0.16061907]\n",
      " [0.86267949 0.13732051]\n",
      " [0.66362901 0.33637099]\n",
      " [0.90671715 0.09328285]\n",
      " [0.87056296 0.12943704]\n",
      " [0.9258079  0.0741921 ]\n",
      " [0.84386854 0.15613146]\n",
      " [0.89878141 0.10121859]\n",
      " [0.91239494 0.08760506]\n",
      " [0.79867634 0.20132366]\n",
      " [0.64052599 0.35947401]\n",
      " [0.84683943 0.15316057]\n",
      " [0.75503197 0.24496803]\n",
      " [0.85264544 0.14735456]\n",
      " [0.99251432 0.00748568]\n",
      " [0.86138215 0.13861785]\n",
      " [0.8814014  0.1185986 ]\n",
      " [0.82757086 0.17242914]\n",
      " [0.93027074 0.06972926]\n",
      " [0.87307443 0.12692557]\n",
      " [0.88802396 0.11197604]\n",
      " [0.8375332  0.1624668 ]\n",
      " [0.86481031 0.13518969]\n",
      " [0.86515549 0.13484451]\n",
      " [0.8975479  0.1024521 ]\n",
      " [0.78409081 0.21590919]\n",
      " [0.79165113 0.20834887]\n",
      " [0.88388123 0.11611877]\n",
      " [0.65418957 0.34581043]\n",
      " [0.94059378 0.05940622]\n",
      " [0.89913435 0.10086565]\n",
      " [0.72525616 0.27474384]\n",
      " [0.69085518 0.30914482]\n",
      " [0.8759163  0.1240837 ]\n",
      " [0.86562246 0.13437754]\n",
      " [0.97508876 0.02491124]\n",
      " [0.86265127 0.13734873]\n",
      " [0.54036075 0.45963925]\n",
      " [0.91302274 0.08697726]\n",
      " [0.74609588 0.25390412]\n",
      " [0.86758147 0.13241853]\n",
      " [0.88852756 0.11147244]\n",
      " [0.87911718 0.12088282]\n",
      " [0.85664964 0.14335036]\n",
      " [0.77281961 0.22718039]\n",
      " [0.80713981 0.19286019]\n",
      " [0.85285506 0.14714494]\n",
      " [0.77595544 0.22404456]\n",
      " [0.70409841 0.29590159]\n",
      " [0.88971656 0.11028344]\n",
      " [0.48963093 0.51036907]\n",
      " [0.92370649 0.07629351]\n",
      " [0.75572313 0.24427687]\n",
      " [0.67788863 0.32211137]\n",
      " [0.91301004 0.08698996]\n",
      " [0.94029213 0.05970787]\n",
      " [0.88009787 0.11990213]\n",
      " [0.88591167 0.11408833]\n",
      " [0.95656826 0.04343174]\n",
      " [0.89909423 0.10090577]\n",
      " [0.94784647 0.05215353]\n",
      " [0.83255775 0.16744225]\n",
      " [0.87822139 0.12177861]\n",
      " [0.819458   0.180542  ]\n",
      " [0.81668786 0.18331214]\n",
      " [0.95036169 0.04963831]\n",
      " [0.86940138 0.13059862]\n",
      " [0.90541598 0.09458402]\n",
      " [0.83661188 0.16338812]\n",
      " [0.8458365  0.1541635 ]\n",
      " [0.79307978 0.20692022]\n",
      " [0.81808124 0.18191876]\n",
      " [0.81598411 0.18401589]\n",
      " [0.83677557 0.16322443]\n",
      " [0.91443033 0.08556967]\n",
      " [0.91533087 0.08466913]\n",
      " [0.68503447 0.31496553]\n",
      " [0.99073758 0.00926242]\n",
      " [0.76795009 0.23204991]\n",
      " [0.79871927 0.20128073]\n",
      " [0.7317683  0.2682317 ]\n",
      " [0.67465194 0.32534806]\n",
      " [0.7971246  0.2028754 ]\n",
      " [0.84935619 0.15064381]\n",
      " [0.86467084 0.13532916]\n",
      " [0.85844151 0.14155849]\n",
      " [0.84533263 0.15466737]\n",
      " [0.83038801 0.16961199]\n",
      " [0.92192752 0.07807248]\n",
      " [0.83189721 0.16810279]\n",
      " [0.97707551 0.02292449]\n",
      " [0.90418232 0.09581768]\n",
      " [0.92691201 0.07308799]\n",
      " [0.84797357 0.15202643]\n",
      " [0.76712573 0.23287427]\n",
      " [0.94895156 0.05104844]\n",
      " [0.94782087 0.05217913]\n",
      " [0.75181508 0.24818492]\n",
      " [0.8788047  0.1211953 ]\n",
      " [0.80770784 0.19229216]\n",
      " [0.93864301 0.06135699]\n",
      " [0.86008492 0.13991508]\n",
      " [0.76056702 0.23943298]\n",
      " [0.90892473 0.09107527]\n",
      " [0.75402141 0.24597859]\n",
      " [0.94271842 0.05728158]\n",
      " [0.9182732  0.0817268 ]\n",
      " [0.90545128 0.09454872]\n",
      " [0.76879459 0.23120541]\n",
      " [0.92358137 0.07641863]\n",
      " [0.8070588  0.1929412 ]\n",
      " [0.90079528 0.09920472]\n",
      " [0.87933329 0.12066671]\n",
      " [0.80585694 0.19414306]\n",
      " [0.83150059 0.16849941]\n",
      " [0.53816776 0.46183224]\n",
      " [0.95031824 0.04968176]\n",
      " [0.73291906 0.26708094]\n",
      " [0.89182872 0.10817128]\n",
      " [0.80079856 0.19920144]\n",
      " [0.87739804 0.12260196]\n",
      " [0.9680523  0.0319477 ]\n",
      " [0.81741597 0.18258403]\n",
      " [0.8615009  0.1384991 ]\n",
      " [0.59407558 0.40592442]\n",
      " [0.82625732 0.17374268]\n",
      " [0.92534976 0.07465024]\n",
      " [0.81692204 0.18307796]\n",
      " [0.92586783 0.07413217]\n",
      " [0.890946   0.109054  ]\n",
      " [0.70071759 0.29928241]\n",
      " [0.82181894 0.17818106]\n",
      " [0.9658994  0.0341006 ]\n",
      " [0.86996989 0.13003011]\n",
      " [0.89918549 0.10081451]\n",
      " [0.88983804 0.11016196]\n",
      " [0.81432462 0.18567538]\n",
      " [0.85830037 0.14169963]\n",
      " [0.83878654 0.16121346]\n",
      " [0.84056579 0.15943421]\n",
      " [0.8266117  0.1733883 ]\n",
      " [0.94075167 0.05924833]\n",
      " [0.83183533 0.16816467]\n",
      " [0.77561355 0.22438645]\n",
      " [0.69399543 0.30600457]\n",
      " [0.85962129 0.14037871]\n",
      " [0.82513942 0.17486058]\n",
      " [0.84107715 0.15892285]\n",
      " [0.87191015 0.12808985]\n",
      " [0.89447653 0.10552347]\n",
      " [0.82945349 0.17054651]\n",
      " [0.72856797 0.27143203]\n",
      " [0.94692821 0.05307179]\n",
      " [0.96074299 0.03925701]\n",
      " [0.90500199 0.09499801]\n",
      " [0.88599989 0.11400011]\n",
      " [0.84865642 0.15134358]\n",
      " [0.79086975 0.20913025]\n",
      " [0.6730297  0.3269703 ]\n",
      " [0.93390208 0.06609792]\n",
      " [0.65644884 0.34355116]\n",
      " [0.7438285  0.2561715 ]\n",
      " [0.94248413 0.05751587]\n",
      " [0.78365674 0.21634326]\n",
      " [0.90655666 0.09344334]\n",
      " [0.81578727 0.18421273]\n",
      " [0.89149736 0.10850264]\n",
      " [0.85791873 0.14208127]\n",
      " [0.67453857 0.32546143]\n",
      " [0.93130395 0.06869605]\n",
      " [0.89999984 0.10000016]]\n"
     ]
    }
   ],
   "source": [
    "probability=model2.predict_proba(X_test)\n",
    "print(probability)"
   ]
  },
  {
   "cell_type": "code",
   "execution_count": 25,
   "metadata": {},
   "outputs": [
    {
     "name": "stdout",
     "output_type": "stream",
     "text": [
      "                            OLS Regression Results                            \n",
      "==============================================================================\n",
      "Dep. Variable:                      y   R-squared:                       0.049\n",
      "Model:                            OLS   Adj. R-squared:                  0.045\n",
      "Method:                 Least Squares   F-statistic:                     12.47\n",
      "Date:                Tue, 17 Jan 2023   Prob (F-statistic):           9.62e-14\n",
      "Time:                        12:25:24   Log-Likelihood:                -578.62\n",
      "No. Observations:                1470   AIC:                             1171.\n",
      "Df Residuals:                    1463   BIC:                             1208.\n",
      "Df Model:                           6                                         \n",
      "Covariance Type:            nonrobust                                         \n",
      "====================================================================================\n",
      "                       coef    std err          t      P>|t|      [0.025      0.975]\n",
      "------------------------------------------------------------------------------------\n",
      "Intercept            0.2682      0.051      5.232      0.000       0.168       0.369\n",
      "Age                 -0.0051      0.001     -4.618      0.000      -0.007      -0.003\n",
      "Department           0.0424      0.017      2.492      0.013       0.009       0.076\n",
      "DistanceFromHome     0.0036      0.001      3.068      0.002       0.001       0.006\n",
      "Education           -0.0008      0.009     -0.090      0.928      -0.019       0.018\n",
      "EducationField       0.0151      0.007      2.113      0.035       0.001       0.029\n",
      "YearsAtCompany      -0.0058      0.002     -3.596      0.000      -0.009      -0.003\n",
      "==============================================================================\n",
      "Omnibus:                      415.266   Durbin-Watson:                   1.932\n",
      "Prob(Omnibus):                  0.000   Jarque-Bera (JB):              842.071\n",
      "Skew:                           1.730   Prob(JB):                    1.40e-183\n",
      "Kurtosis:                       4.332   Cond. No.                         221.\n",
      "==============================================================================\n",
      "\n",
      "Warnings:\n",
      "[1] Standard Errors assume that the covariance matrix of the errors is correctly specified.\n",
      "0.8435374149659864\n",
      "0.6502502887947632\n"
     ]
    }
   ],
   "source": [
    "model3=sm.OLS(y,x)\n",
    "result3=model3.fit()\n",
    "print(result3.summary())\n",
    "from sklearn import metrics\n",
    "\n",
    "print(metrics.accuracy_score(y_test, predicted))\n",
    "print(metrics.roc_auc_score(y_test, probability[:, 1]))"
   ]
  },
  {
   "cell_type": "code",
   "execution_count": 77,
   "metadata": {},
   "outputs": [
    {
     "name": "stdout",
     "output_type": "stream",
     "text": [
      "[[371   0]\n",
      " [ 69   1]]\n",
      "              precision    recall  f1-score   support\n",
      "\n",
      "         0.0       0.84      1.00      0.91       371\n",
      "         1.0       1.00      0.01      0.03        70\n",
      "\n",
      "    accuracy                           0.84       441\n",
      "   macro avg       0.92      0.51      0.47       441\n",
      "weighted avg       0.87      0.84      0.77       441\n",
      "\n"
     ]
    }
   ],
   "source": [
    "print(metrics.confusion_matrix(y_test, predicted))\n",
    "print(metrics.classification_report(y_test, predicted))"
   ]
  },
  {
   "cell_type": "code",
   "execution_count": 79,
   "metadata": {},
   "outputs": [
    {
     "name": "stdout",
     "output_type": "stream",
     "text": [
      "      Intercept   Age  Department  DistanceFromHome  Education  \\\n",
      "338         1.0  30.0         2.0               5.0        3.0   \n",
      "363         1.0  33.0         2.0               5.0        3.0   \n",
      "759         1.0  45.0         3.0              24.0        4.0   \n",
      "793         1.0  28.0         1.0              15.0        2.0   \n",
      "581         1.0  30.0         1.0               1.0        3.0   \n",
      "...         ...   ...         ...               ...        ...   \n",
      "763         1.0  34.0         2.0              10.0        4.0   \n",
      "835         1.0  35.0         3.0               8.0        4.0   \n",
      "1216        1.0  43.0         2.0               2.0        3.0   \n",
      "559         1.0  38.0         1.0               2.0        5.0   \n",
      "684         1.0  40.0         2.0              10.0        4.0   \n",
      "\n",
      "      EducationField  YearsAtCompany  \n",
      "338              3.0            10.0  \n",
      "363              3.0             1.0  \n",
      "759              2.0             6.0  \n",
      "793              1.0             4.0  \n",
      "581              1.0             2.0  \n",
      "...              ...             ...  \n",
      "763              1.0             1.0  \n",
      "835              5.0             5.0  \n",
      "1216             2.0            10.0  \n",
      "559              2.0             1.0  \n",
      "684              3.0             1.0  \n",
      "\n",
      "[1029 rows x 7 columns]\n"
     ]
    }
   ],
   "source": [
    "print(X_train)"
   ]
  },
  {
   "cell_type": "code",
   "execution_count": 82,
   "metadata": {},
   "outputs": [
    {
     "name": "stdout",
     "output_type": "stream",
     "text": [
      "[[3.91613733e-04 9.99608386e-01]]\n"
     ]
    },
    {
     "name": "stderr",
     "output_type": "stream",
     "text": [
      "/usr/local/lib/python3.7/site-packages/sklearn/base.py:451: UserWarning: X does not have valid feature names, but LogisticRegression was fitted with feature names\n",
      "  \"X does not have valid feature names, but\"\n"
     ]
    }
   ],
   "source": [
    "vv=[[1.0, 23.0, 1.0, 500.0, 3.0, 24.0, 100.0]]\n",
    "print(model.predict_proba(vv))"
   ]
  },
  {
   "cell_type": "code",
   "execution_count": null,
   "metadata": {},
   "outputs": [],
   "source": []
  }
 ],
 "metadata": {
  "kernelspec": {
   "display_name": "Python 3",
   "language": "python",
   "name": "python3"
  },
  "language_info": {
   "codemirror_mode": {
    "name": "ipython",
    "version": 3
   },
   "file_extension": ".py",
   "mimetype": "text/x-python",
   "name": "python",
   "nbconvert_exporter": "python",
   "pygments_lexer": "ipython3",
   "version": "3.7.6"
  }
 },
 "nbformat": 4,
 "nbformat_minor": 4
}
